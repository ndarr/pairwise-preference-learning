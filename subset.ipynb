{
 "cells": [
  {
   "cell_type": "markdown",
   "id": "spoken-trance",
   "metadata": {},
   "source": [
    "# Subset of poems creation to filter pairs with only a few annotations"
   ]
  },
  {
   "cell_type": "code",
   "execution_count": 1,
   "id": "coral-filling",
   "metadata": {},
   "outputs": [],
   "source": [
    "from utils import get_poem_pairs_with_labels\n",
    "pairs, poems = get_poem_pairs_with_labels(\"consolidated_batches.csv\")"
   ]
  },
  {
   "cell_type": "markdown",
   "id": "narrow-potential",
   "metadata": {},
   "source": [
    "# Find the poems which occur at least 10 times overall"
   ]
  },
  {
   "cell_type": "code",
   "execution_count": 2,
   "id": "fifteen-crown",
   "metadata": {},
   "outputs": [
    {
     "name": "stdout",
     "output_type": "stream",
     "text": [
      "7620\n",
      "83\n"
     ]
    }
   ],
   "source": [
    "from collections import Counter\n",
    "print(len(poems))\n",
    "poem_counter = Counter(poems)\n",
    "poems_at_least_10_times = [poem for poem, count in poem_counter.items() if count >= 10]\n",
    "print(len(poems_at_least_10_times))"
   ]
  },
  {
   "cell_type": "markdown",
   "id": "photographic-feeling",
   "metadata": {},
   "source": [
    "# Write selected poems into file"
   ]
  },
  {
   "cell_type": "code",
   "execution_count": 3,
   "id": "elegant-growing",
   "metadata": {},
   "outputs": [],
   "source": [
    "from utils import POEM_FOLDER\n",
    "from os.path import join\n",
    "\n",
    "with open(join(POEM_FOLDER, \"multi_annotated_poems_10.txt\"), \"w+\") as f:\n",
    "    for poem in poems_at_least_10_times:\n",
    "        f.write(poem + \"\\n\")"
   ]
  }
 ],
 "metadata": {
  "kernelspec": {
   "display_name": "Python 3",
   "language": "python",
   "name": "python3"
  },
  "language_info": {
   "codemirror_mode": {
    "name": "ipython",
    "version": 3
   },
   "file_extension": ".py",
   "mimetype": "text/x-python",
   "name": "python",
   "nbconvert_exporter": "python",
   "pygments_lexer": "ipython3",
   "version": "3.9.1"
  }
 },
 "nbformat": 4,
 "nbformat_minor": 5
}
