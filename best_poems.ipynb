{
 "cells": [
  {
   "cell_type": "code",
   "execution_count": 1,
   "metadata": {},
   "outputs": [],
   "source": [
    "# Load poem scores\n",
    "from csv import reader\n",
    "poem_scores = {}\n",
    "with open(\"scores/normalized_scores.csv\", \"r\") as f:\n",
    "    rows = reader(f)\n",
    "    header = next(rows)\n",
    "    for row in rows:\n",
    "        poem = row[0]\n",
    "        dataset = row[1]\n",
    "        poem_score_entry = {}\n",
    "        poem_score_entry[\"dataset\"] = dataset\n",
    "        for idx, col in enumerate(header[2:], 2):\n",
    "            poem_score_entry[col] = float(row[idx])\n",
    "        poem_scores[poem] = poem_score_entry"
   ]
  },
  {
   "cell_type": "code",
   "execution_count": 3,
   "metadata": {},
   "outputs": [
    {
     "name": "stdout",
     "output_type": "stream",
     "text": [
      "bertranker_all             : Counter({'gutenberg': 95, 'deepspeare': 20, 'hafez': 19, 'true_poetry': 15, 'ngram': 13, 'jhamtani': 13, 'lstm': 13, 'gpt2': 12})\n",
      "bertranker_coherent        : Counter({'gutenberg': 89, 'lstm': 19, 'ngram': 18, 'true_poetry': 17, 'gpt2': 15, 'hafez': 15, 'jhamtani': 15, 'deepspeare': 12})\n",
      "bertranker_grammatical     : Counter({'gutenberg': 90, 'true_poetry': 19, 'hafez': 19, 'ngram': 18, 'gpt2': 16, 'lstm': 15, 'jhamtani': 13, 'deepspeare': 10})\n",
      "bertranker_melodious       : Counter({'gutenberg': 86, 'true_poetry': 20, 'ngram': 19, 'gpt2': 18, 'hafez': 18, 'lstm': 15, 'jhamtani': 14, 'deepspeare': 10})\n",
      "bertranker_moved           : Counter({'gutenberg': 86, 'ngram': 18, 'lstm': 18, 'true_poetry': 17, 'deepspeare': 17, 'hafez': 17, 'jhamtani': 15, 'gpt2': 12})\n",
      "bertranker_real            : Counter({'gutenberg': 86, 'ngram': 24, 'true_poetry': 21, 'hafez': 18, 'jhamtani': 14, 'gpt2': 13, 'deepspeare': 12, 'lstm': 12})\n",
      "bertranker_rhyming         : Counter({'gutenberg': 78, 'lstm': 23, 'true_poetry': 20, 'ngram': 17, 'gpt2': 17, 'hafez': 16, 'jhamtani': 15, 'deepspeare': 14})\n",
      "bertranker_readable        : Counter({'gutenberg': 87, 'true_poetry': 18, 'hafez': 17, 'deepspeare': 16, 'ngram': 16, 'jhamtani': 16, 'lstm': 16, 'gpt2': 14})\n",
      "bertranker_comprehensible  : Counter({'gutenberg': 92, 'true_poetry': 20, 'hafez': 19, 'ngram': 17, 'gpt2': 14, 'lstm': 14, 'deepspeare': 12, 'jhamtani': 12})\n",
      "bertranker_intense         : Counter({'gutenberg': 77, 'true_poetry': 22, 'hafez': 18, 'gpt2': 18, 'jhamtani': 17, 'ngram': 17, 'lstm': 17, 'deepspeare': 14})\n",
      "bertranker_liking          : Counter({'gutenberg': 90, 'true_poetry': 20, 'ngram': 19, 'gpt2': 16, 'hafez': 16, 'lstm': 15, 'jhamtani': 12, 'deepspeare': 12})\n",
      "crowdgppl_all              : Counter({'gutenberg': 93, 'ngram': 27, 'true_poetry': 20, 'hafez': 18, 'lstm': 15, 'deepspeare': 14, 'jhamtani': 9, 'gpt2': 4})\n",
      "crowdgppl_coherent         : Counter({'gutenberg': 93, 'ngram': 27, 'true_poetry': 20, 'hafez': 18, 'lstm': 15, 'deepspeare': 14, 'jhamtani': 9, 'gpt2': 4})\n",
      "crowdgppl_grammatical      : Counter({'gutenberg': 83, 'hafez': 22, 'ngram': 19, 'lstm': 18, 'jhamtani': 16, 'gpt2': 16, 'deepspeare': 14, 'true_poetry': 12})\n",
      "crowdgppl_melodious        : Counter({'gutenberg': 90, 'hafez': 20, 'ngram': 17, 'true_poetry': 16, 'lstm': 15, 'jhamtani': 15, 'deepspeare': 14, 'gpt2': 13})\n",
      "crowdgppl_moved            : Counter({'gutenberg': 85, 'true_poetry': 23, 'ngram': 22, 'deepspeare': 17, 'hafez': 16, 'lstm': 13, 'jhamtani': 13, 'gpt2': 11})\n",
      "crowdgppl_real             : Counter({'gutenberg': 96, 'true_poetry': 25, 'ngram': 23, 'lstm': 14, 'deepspeare': 11, 'jhamtani': 11, 'hafez': 11, 'gpt2': 9})\n",
      "crowdgppl_rhyming          : Counter({'gutenberg': 93, 'true_poetry': 21, 'deepspeare': 18, 'ngram': 17, 'hafez': 17, 'lstm': 14, 'gpt2': 10, 'jhamtani': 10})\n",
      "crowdgppl_readable         : Counter({'gutenberg': 83, 'true_poetry': 23, 'deepspeare': 21, 'ngram': 18, 'hafez': 18, 'gpt2': 15, 'lstm': 12, 'jhamtani': 10})\n",
      "crowdgppl_comprehensible   : Counter({'gutenberg': 93, 'deepspeare': 24, 'true_poetry': 21, 'hafez': 16, 'ngram': 15, 'lstm': 13, 'jhamtani': 12, 'gpt2': 6})\n",
      "crowdgppl_intense          : Counter({'gutenberg': 88, 'true_poetry': 22, 'deepspeare': 16, 'ngram': 16, 'lstm': 15, 'hafez': 15, 'jhamtani': 14, 'gpt2': 14})\n",
      "crowdgppl_liking           : Counter({'gutenberg': 91, 'ngram': 21, 'true_poetry': 21, 'deepspeare': 19, 'hafez': 17, 'jhamtani': 12, 'lstm': 11, 'gpt2': 8})\n",
      "bws_all                    : Counter({'gutenberg': 89, 'true_poetry': 25, 'ngram': 20, 'deepspeare': 19, 'hafez': 17, 'lstm': 14, 'jhamtani': 10, 'gpt2': 6})\n",
      "bws_coherent               : Counter({'gutenberg': 89, 'ngram': 25, 'deepspeare': 20, 'true_poetry': 17, 'lstm': 16, 'hafez': 16, 'jhamtani': 12, 'gpt2': 5})\n",
      "bws_grammatical            : Counter({'gutenberg': 87, 'hafez': 21, 'lstm': 20, 'true_poetry': 19, 'ngram': 17, 'deepspeare': 16, 'jhamtani': 15, 'gpt2': 5})\n",
      "bws_melodious              : Counter({'gutenberg': 82, 'true_poetry': 21, 'ngram': 20, 'hafez': 18, 'deepspeare': 17, 'jhamtani': 16, 'lstm': 15, 'gpt2': 11})\n",
      "bws_moved                  : Counter({'gutenberg': 88, 'true_poetry': 23, 'ngram': 22, 'deepspeare': 20, 'lstm': 17, 'hafez': 15, 'jhamtani': 11, 'gpt2': 4})\n",
      "bws_real                   : Counter({'gutenberg': 96, 'true_poetry': 27, 'ngram': 17, 'lstm': 16, 'hafez': 13, 'deepspeare': 13, 'jhamtani': 12, 'gpt2': 6})\n",
      "bws_rhyming                : Counter({'gutenberg': 97, 'true_poetry': 23, 'ngram': 17, 'deepspeare': 17, 'hafez': 14, 'lstm': 13, 'jhamtani': 12, 'gpt2': 7})\n",
      "bws_readable               : Counter({'gutenberg': 83, 'true_poetry': 25, 'deepspeare': 19, 'ngram': 19, 'hafez': 18, 'lstm': 17, 'jhamtani': 12, 'gpt2': 7})\n",
      "bws_comprehensible         : Counter({'gutenberg': 89, 'true_poetry': 21, 'deepspeare': 20, 'ngram': 19, 'hafez': 17, 'lstm': 14, 'jhamtani': 13, 'gpt2': 7})\n",
      "bws_intense                : Counter({'gutenberg': 85, 'ngram': 22, 'lstm': 18, 'jhamtani': 18, 'true_poetry': 17, 'deepspeare': 16, 'hafez': 13, 'gpt2': 11})\n",
      "bws_liking                 : Counter({'gutenberg': 89, 'deepspeare': 23, 'true_poetry': 22, 'ngram': 21, 'lstm': 18, 'jhamtani': 12, 'hafez': 10, 'gpt2': 5})\n",
      "gppl_all                   : Counter({'gutenberg': 86, 'ngram': 26, 'hafez': 22, 'deepspeare': 21, 'true_poetry': 19, 'lstm': 14, 'jhamtani': 10, 'gpt2': 2})\n",
      "gppl_coherent              : Counter({'gutenberg': 86, 'ngram': 26, 'hafez': 22, 'deepspeare': 21, 'true_poetry': 19, 'lstm': 14, 'jhamtani': 10, 'gpt2': 2})\n",
      "gppl_grammatical           : Counter({'gutenberg': 86, 'ngram': 26, 'hafez': 22, 'deepspeare': 21, 'true_poetry': 19, 'lstm': 14, 'jhamtani': 10, 'gpt2': 2})\n",
      "gppl_melodious             : Counter({'gutenberg': 86, 'ngram': 26, 'hafez': 22, 'deepspeare': 21, 'true_poetry': 19, 'lstm': 14, 'jhamtani': 10, 'gpt2': 2})\n",
      "gppl_moved                 : Counter({'gutenberg': 86, 'ngram': 26, 'hafez': 22, 'deepspeare': 21, 'true_poetry': 19, 'lstm': 14, 'jhamtani': 10, 'gpt2': 2})\n",
      "gppl_real                  : Counter({'gutenberg': 86, 'ngram': 26, 'hafez': 22, 'deepspeare': 21, 'true_poetry': 19, 'lstm': 14, 'jhamtani': 10, 'gpt2': 2})\n",
      "gppl_rhyming               : Counter({'gutenberg': 86, 'ngram': 26, 'hafez': 22, 'deepspeare': 21, 'true_poetry': 19, 'lstm': 14, 'jhamtani': 10, 'gpt2': 2})\n",
      "gppl_readable              : Counter({'gutenberg': 86, 'ngram': 26, 'hafez': 22, 'deepspeare': 21, 'true_poetry': 19, 'lstm': 14, 'jhamtani': 10, 'gpt2': 2})\n",
      "gppl_comprehensible        : Counter({'gutenberg': 86, 'ngram': 26, 'hafez': 22, 'deepspeare': 21, 'true_poetry': 19, 'lstm': 14, 'jhamtani': 10, 'gpt2': 2})\n",
      "gppl_intense               : Counter({'gutenberg': 86, 'ngram': 26, 'hafez': 22, 'deepspeare': 21, 'true_poetry': 19, 'lstm': 14, 'jhamtani': 10, 'gpt2': 2})\n",
      "gppl_liking                : Counter({'gutenberg': 86, 'ngram': 26, 'hafez': 22, 'deepspeare': 21, 'true_poetry': 19, 'lstm': 14, 'jhamtani': 10, 'gpt2': 2})\n"
     ]
    }
   ],
   "source": [
    "from collections import Counter\n",
    "\n",
    "n = 200\n",
    "# get best poems in category\n",
    "categories = header[2:]\n",
    "\n",
    "for cat in categories:\n",
    "    best = []\n",
    "    for poem in poem_scores:\n",
    "        dataset = poem_scores[poem][\"dataset\"]\n",
    "        # Just append poem if there are not enough in best list yet\n",
    "        if len(best) < n:\n",
    "            best.append((poem, poem_scores[poem][cat], dataset))\n",
    "        # Replace first poem in list if the score of the current poem is higher\n",
    "        elif best[0][1] < poem_scores[poem][cat]:\n",
    "            best[0] = (poem, poem_scores[poem][cat], dataset)\n",
    "            # Sort list after scores to have worst poem under n bests at first position\n",
    "            best = sorted(best, key=lambda x: x[1])\n",
    "\n",
    "    # Get datasets among the n best poems\n",
    "    best_datasets = [p[-1] for p in best]\n",
    "    # Count dataset occurences in best n poems, normalization with number of dataset occurences shall be added\n",
    "    counter = Counter(best_datasets)\n",
    "    # Spacing for better output format\n",
    "    spacing = ' ' * (27-len(cat))\n",
    "    print(f\"{cat}{spacing}: {counter}\")\n",
    "    "
   ]
  }
 ],
 "metadata": {
  "kernelspec": {
   "display_name": "Python 3",
   "language": "python",
   "name": "python3"
  },
  "language_info": {
   "codemirror_mode": {
    "name": "ipython",
    "version": 3
   },
   "file_extension": ".py",
   "mimetype": "text/x-python",
   "name": "python",
   "nbconvert_exporter": "python",
   "pygments_lexer": "ipython3",
   "version": "3.9.1"
  }
 },
 "nbformat": 4,
 "nbformat_minor": 4
}
