{
 "cells": [
  {
   "cell_type": "code",
   "execution_count": 2,
   "metadata": {},
   "outputs": [],
   "source": [
    "# Load poem scores\n",
    "from csv import reader\n",
    "poem_scores = {}\n",
    "with open(\"scores/normalized_scores.csv\", \"r\") as f:\n",
    "    rows = reader(f)\n",
    "    header = next(rows)\n",
    "    for row in rows:\n",
    "        poem = row[0]\n",
    "        dataset = row[1]\n",
    "        poem_score_entry = {}\n",
    "        poem_score_entry[\"dataset\"] = dataset\n",
    "        for idx, col in enumerate(header[2:], 2):\n",
    "            poem_score_entry[col] = float(row[idx])\n",
    "        poem_scores[poem] = poem_score_entry"
   ]
  },
  {
   "cell_type": "code",
   "execution_count": 4,
   "metadata": {},
   "outputs": [
    {
     "name": "stdout",
     "output_type": "stream",
     "text": [
      "bertranker_real            : Counter({'gutenberg': 71, 'gpt2': 29, 'true_poetry': 20, 'ngram': 19, 'hafez': 19, 'deepspeare': 15, 'lstm': 14, 'jhamtani': 13})\n",
      "crowdgppl_real             : Counter({'gutenberg': 71, 'gpt2': 29, 'true_poetry': 20, 'ngram': 19, 'hafez': 19, 'deepspeare': 16, 'jhamtani': 13, 'lstm': 13})\n",
      "bws_real                   : Counter({'gutenberg': 72, 'gpt2': 29, 'true_poetry': 20, 'hafez': 19, 'ngram': 19, 'deepspeare': 15, 'jhamtani': 13, 'lstm': 13})\n",
      "gppl_real                  : Counter({'gutenberg': 72, 'gpt2': 29, 'true_poetry': 20, 'ngram': 19, 'hafez': 19, 'deepspeare': 15, 'jhamtani': 13, 'lstm': 13})\n"
     ]
    }
   ],
   "source": [
    "from collections import Counter\n",
    "\n",
    "n = 200\n",
    "# get best poems in category\n",
    "categories = header[2:]\n",
    "\n",
    "for cat in categories:\n",
    "    best = []\n",
    "    for poem in poem_scores:\n",
    "        dataset = poem_scores[poem][\"dataset\"]\n",
    "        # Just append poem if there are not enough in best list yet\n",
    "        if len(best) < n:\n",
    "            best.append((poem, poem_scores[poem][cat], dataset))\n",
    "        # Replace last poem in list if the score of the current poem is higher\n",
    "        elif best[-1][1] < poem_scores[poem][cat]:\n",
    "            best[-1] = (poem, poem_scores[poem][cat], dataset)\n",
    "            # Sort list after scores to have worst poem under n bests at last position\n",
    "            best = sorted(best, key=lambda x: x[1])\n",
    "\n",
    "    best_datasets = [p[-1] for p in best]\n",
    "    # Count dataset occurences in best n poems\n",
    "    counter = Counter(best_datasets)\n",
    "    # Spacing for better output format\n",
    "    spacing = ' ' * (27-len(cat))\n",
    "    print(f\"{cat}{spacing}: {counter}\")\n",
    "    "
   ]
  }
 ],
 "metadata": {
  "kernelspec": {
   "display_name": "Python 3",
   "language": "python",
   "name": "python3"
  },
  "language_info": {
   "codemirror_mode": {
    "name": "ipython",
    "version": 3
   },
   "file_extension": ".py",
   "mimetype": "text/x-python",
   "name": "python",
   "nbconvert_exporter": "python",
   "pygments_lexer": "ipython3",
   "version": "3.9.1"
  }
 },
 "nbformat": 4,
 "nbformat_minor": 4
}